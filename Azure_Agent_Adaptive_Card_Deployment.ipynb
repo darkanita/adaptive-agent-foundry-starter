{
 "cells": [
  {
   "cell_type": "markdown",
   "id": "dcab54e3",
   "metadata": {},
   "source": [
    "# Azure AI Foundry Agent with Adaptive Cards\n",
    "This notebook demonstrates how to build and deploy an agent using `agent_framework` with Adaptive Cards on Azure AI Foundry."
   ]
  },
  {
   "cell_type": "markdown",
   "id": "a7a36da4",
   "metadata": {},
   "source": [
    "## 1. Environment Setup\n",
    "Install the required SDK and authenticate with Azure."
   ]
  },
  {
   "cell_type": "code",
   "execution_count": null,
   "id": "f18b3685",
   "metadata": {},
   "outputs": [],
   "source": [
    "!pip install agent-framework-azure-ai\n",
    "!az login"
   ]
  },
  {
   "cell_type": "markdown",
   "id": "905a18e4",
   "metadata": {},
   "source": [
    "## 2. Agent Creation\n",
    "Create an agent using the Azure AI Agent Framework SDK."
   ]
  },
  {
   "cell_type": "code",
   "execution_count": null,
   "id": "eb4b4c3a",
   "metadata": {},
   "outputs": [],
   "source": [
    "from agent_framework.azure_ai import AzureAIAgentClient\n",
    "\n",
    "client = AzureAIAgentClient()\n",
    "agent = client.create_agent(\n",
    "    model=\"gpt-4o-mini\",\n",
    "    name=\"CardGuideAgent\",\n",
    "    instructions=\"Guide users using adaptive cards for step-by-step workflows.\"\n",
    ")"
   ]
  },
  {
   "cell_type": "markdown",
   "id": "ee1306ef",
   "metadata": {},
   "source": [
    "## 3. Adaptive Card Definition\n",
    "Define the Adaptive Card JSON payload for user interaction."
   ]
  },
  {
   "cell_type": "code",
   "execution_count": null,
   "id": "8e0a9aa0",
   "metadata": {},
   "outputs": [],
   "source": [
    "adaptive_card = {\n",
    "    \"type\": \"AdaptiveCard\",\n",
    "    \"body\": [\n",
    "        {\n",
    "            \"type\": \"TextBlock\",\n",
    "            \"text\": \"Welcome! What would you like to do?\",\n",
    "            \"weight\": \"Bolder\",\n",
    "            \"size\": \"Medium\"\n",
    "        },\n",
    "        {\n",
    "            \"type\": \"Input.ChoiceSet\",\n",
    "            \"id\": \"actionChoice\",\n",
    "            \"style\": \"expanded\",\n",
    "            \"choices\": [\n",
    "                { \"title\": \"Start a new workflow\", \"value\": \"start\" },\n",
    "                { \"title\": \"View status\", \"value\": \"status\" }\n",
    "            ]\n",
    "        }\n",
    "    ],\n",
    "    \"actions\": [\n",
    "        {\n",
    "            \"type\": \"Action.Submit\",\n",
    "            \"title\": \"Continue\"\n",
    "        }\n",
    "    ],\n",
    "    \"$schema\": \"http://adaptivecards.io/schemas/adaptive-card.json\",\n",
    "    \"version\": \"1.5\"\n",
    "}"
   ]
  },
  {
   "cell_type": "markdown",
   "id": "a92df844",
   "metadata": {},
   "source": [
    "## 4. Deployment\n",
    "Deploy the agent to Azure AI Foundry."
   ]
  },
  {
   "cell_type": "code",
   "execution_count": null,
   "id": "7b649e1c",
   "metadata": {},
   "outputs": [],
   "source": [
    "# Replace 'your-agent-id' and 'your-resource-group' with actual values\n",
    "client.deploy_agent(agent_id=agent.id, deployment_type=\"standard\")"
   ]
  }
 ],
 "metadata": {},
 "nbformat": 4,
 "nbformat_minor": 5
}
