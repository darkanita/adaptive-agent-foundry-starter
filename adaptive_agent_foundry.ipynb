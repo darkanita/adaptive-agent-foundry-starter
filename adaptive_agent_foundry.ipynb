{
 "cells": [
  {
   "cell_type": "markdown",
   "id": "f080bc5c",
   "metadata": {},
   "source": [
    "# Adaptive Agent Deployment with Azure AI Foundry"
   ]
  },
  {
   "cell_type": "code",
   "execution_count": null,
   "id": "ceac964c",
   "metadata": {},
   "outputs": [],
   "source": [
    "from azure.ai.projects import AIProjectClient\n",
    "from azure.identity import DefaultAzureCredential\n",
    "from azure.ai.agents.models import ListSortOrder\n",
    "import os"
   ]
  },
  {
   "cell_type": "code",
   "execution_count": null,
   "id": "f18391f1",
   "metadata": {},
   "outputs": [],
   "source": [
    "# Setup project client\n",
    "project = AIProjectClient(\n",
    "    endpoint=os.environ[\"PROJECT_ENDPOINT\"],\n",
    "    credential=DefaultAzureCredential()\n",
    ")"
   ]
  },
  {
   "cell_type": "code",
   "execution_count": null,
   "id": "b1ab9072",
   "metadata": {},
   "outputs": [],
   "source": [
    "# Define Adaptive Card template\n",
    "adaptive_card = {\n",
    "    \"$schema\": \"http://adaptivecards.io/schemas/adaptive-card.json\",\n",
    "    \"type\": \"AdaptiveCard\",\n",
    "    \"version\": \"1.5\",\n",
    "    \"body\": [\n",
    "        {\"type\": \"TextBlock\", \"text\": \"Welcome!\", \"size\": \"Large\"},\n",
    "        {\"type\": \"Input.Text\", \"id\": \"userInput\", \"placeholder\": \"Ask me something...\"}\n",
    "    ],\n",
    "    \"actions\": [{\"type\": \"Action.Submit\", \"title\": \"Send\"}]\n",
    "}"
   ]
  },
  {
   "cell_type": "code",
   "execution_count": null,
   "id": "778ea963",
   "metadata": {},
   "outputs": [],
   "source": [
    "# Create agent\n",
    "agent = project.agents.create_agent(\n",
    "    model=os.environ[\"MODEL_DEPLOYMENT_NAME\"],\n",
    "    name=\"adaptive-agent\",\n",
    "    instructions=\"You are a helpful assistant using Adaptive Cards to guide users.\",\n",
    "    tools=[{\"type\": \"adaptiveCard\", \"card\": adaptive_card}]\n",
    ")"
   ]
  },
  {
   "cell_type": "code",
   "execution_count": null,
   "id": "1af17e10",
   "metadata": {},
   "outputs": [],
   "source": [
    "# Create thread and send message\n",
    "thread = project.agents.threads.create()\n",
    "message = project.agents.messages.create(\n",
    "    thread_id=thread.id,\n",
    "    role=\"user\",\n",
    "    content=\"How can I reset my password?\"\n",
    ")"
   ]
  },
  {
   "cell_type": "code",
   "execution_count": null,
   "id": "65340c1c",
   "metadata": {},
   "outputs": [],
   "source": [
    "# Run agent and get response\n",
    "run = project.agents.runs.create_and_process(thread_id=thread.id, agent_id=agent.id)\n",
    "messages = project.agents.messages.list(thread_id=thread.id, order=ListSortOrder.ASCENDING)\n",
    "for msg in messages:\n",
    "    if msg.run_id == run.id and msg.text_messages:\n",
    "        print(f\"{msg.role}: {msg.text_messages[-1].text.value}\")"
   ]
  }
 ],
 "metadata": {},
 "nbformat": 4,
 "nbformat_minor": 5
}